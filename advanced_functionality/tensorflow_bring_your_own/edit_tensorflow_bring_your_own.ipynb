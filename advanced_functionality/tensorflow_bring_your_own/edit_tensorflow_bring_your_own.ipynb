{
 "cells": [
  {
   "cell_type": "markdown",
   "metadata": {},
   "source": [
    "# Building your own TensorFlow container\n",
    "\n",
    "With Amazon SageMaker, you can package your own algorithms that can then be trained and deployed in the SageMaker environment. This notebook guides you through an example using TensorFlow that shows you how to build a Docker container for SageMaker and use it for training and inference.\n",
    "\n",
    "By packaging an algorithm in a container, you can bring almost any code to the Amazon SageMaker environment, regardless of programming language, environment, framework, or dependencies. \n",
    "\n",
    "1. [Building your own TensorFlow container](#Building-your-own-tensorflow-container)\n",
    "  1. [When should I build my own algorithm container?](#When-should-I-build-my-own-algorithm-container?)\n",
    "  1. [Permissions](#Permissions)\n",
    "  1. [The example](#The-example)\n",
    "  1. [The presentation](#The-presentation)\n",
    "1. [Part 1: Packaging and Uploading your Algorithm for use with Amazon SageMaker](#Part-1:-Packaging-and-Uploading-your-Algorithm-for-use-with-Amazon-SageMaker)\n",
    "    1. [An overview of Docker](#An-overview-of-Docker)\n",
    "    1. [How Amazon SageMaker runs your Docker container](#How-Amazon-SageMaker-runs-your-Docker-container)\n",
    "      1. [Running your container during training](#Running-your-container-during-training)\n",
    "        1. [The input](#The-input)\n",
    "        1. [The output](#The-output)\n",
    "      1. [Running your container during hosting](#Running-your-container-during-hosting)\n",
    "    1. [The parts of the sample container](#The-parts-of-the-sample-container)\n",
    "    1. [The `Dockerfile`](#The-Dockerfile)\n",
    "    1. [Building and registering the container](#Building-and-registering-the-container)\n",
    "  1. [Testing your algorithm on your local machine](#Testing-your-algorithm-on-your-local-machine)\n",
    "1. [Part 2: Training and Hosting your Algorithm in Amazon SageMaker](#Part-2:-Training-and-Hosting-your-Algorithm-in-Amazon-SageMaker)\n",
    "  1. [Set up the environment](#Set-up-the-environment)\n",
    "  1. [Create the session](#Create-the-session)\n",
    "  1. [Upload the data for training](#Upload-the-data-for-training)\n",
    "  1. [Training On SageMaker](#Training-on-SageMaker)\n",
    "  1. [Optional cleanup](#Optional-cleanup)  \n",
    "1. [Reference](#Reference)\n",
    "\n",
    "_or_ I'm impatient, just [let me see the code](#The-Dockerfile)!\n",
    "\n",
    "## When should I build my own algorithm container?\n",
    "\n",
    "You may not need to create a container to bring your own code to Amazon SageMaker. When you are using a framework such as Apache MXNet or TensorFlow that has direct support in SageMaker, you can simply supply the Python code that implements your algorithm using the SDK entry points for that framework. This set of supported frameworks is regularly added to, so you should check the current list to determine whether your algorithm is written in one of these common machine learning environments.\n",
    "\n",
    "Even if there is direct SDK support for your environment or framework, you may find it more effective to build your own container. If the code that implements your algorithm is quite complex, or you need special additions to the framework, building your own container may be the right choice.\n",
    "\n",
    "Some reasons to build an already supported framework container are:\n",
    "1. A specific version isn't supported.\n",
    "2. Configure and install your dependencies and environment.\n",
    "3. Use a different training/hosting solution than provided.\n",
    "\n",
    "This walkthrough shows that it is quite straightforward to build your own container. So you can still use SageMaker even if your use case is not covered by the deep learning containers that we've built for you.\n",
    "\n",
    "## Permissions\n",
    "\n",
    "Running this notebook requires permissions in addition to the normal `SageMakerFullAccess` permissions. This is because it creates new repositories on Amazon ECR. The easiest way to add these permissions is simply to add the managed policy `AmazonEC2ContainerRegistryFullAccess` to the role that you used to start your notebook instance. There's no need to restart your notebook instance when you do this, the new permissions will be available immediately.\n",
    "\n",
    "## The example\n",
    "\n",
    "In this example we show how to package a custom TensorFlow container with a Python example which works with the CIFAR-10 dataset and uses TensorFlow Serving for inference. However, different inference solutions other than TensorFlow Serving can be used by modifying the docker container.\n",
    "\n",
    "In this example, we use a single image to support training and hosting. This simplifies the procedure because we only need to manage one image for both tasks. Sometimes you may want separate images for training and hosting because they have different requirements. In this case, separate the parts discussed below into separate `Dockerfiles` and build two images. Choosing whether to use a single image or two images is a matter of what is most convenient for you to develop and manage.\n",
    "\n",
    "If you're only using Amazon SageMaker for training or hosting, but not both, only the functionality used needs to be built into your container.\n",
    "\n",
    "[CIFAR-10]: http://www.cs.toronto.edu/~kriz/cifar.html\n",
    "\n",
    "## The presentation\n",
    "\n",
    "This presentation is divided into two parts: _building_ the container and _using_ the container."
   ]
  },
  {
   "cell_type": "markdown",
   "metadata": {},
   "source": [
    "# Part 1: Packaging and Uploading your Algorithm for use with Amazon SageMaker\n",
    "\n",
    "### An overview of Docker\n",
    "\n",
    "If you're familiar with Docker already, you can skip ahead to the next section.\n",
    "\n",
    "For many data scientists, Docker containers are a new technology. But they are not difficult and can significantly simply the deployment of your software packages. \n",
    "\n",
    "Docker provides a simple way to package arbitrary code into an _image_ that is totally self-contained. Once you have an image, you can use Docker to run a _container_ based on that image. Running a container is just like running a program on the machine except that the container creates a fully self-contained environment for the program to run. Containers are isolated from each other and from the host environment, so the way your program is set up is the way it runs, no matter where you run it.\n",
    "\n",
    "Docker is more powerful than environment managers like `conda` or `virtualenv` because (a) it is completely language independent and (b) it comprises your whole operating environment, including startup commands, and environment variable.\n",
    "\n",
    "A Docker container is like a virtual machine, but it is much lighter weight. For example, a program running in a container can start in less than a second and many containers can run simultaneously on the same physical or virtual machine instance.\n",
    "\n",
    "Docker uses a simple file called a `Dockerfile` to specify how the image is assembled. An example is provided below. You can build your Docker images based on Docker images built by yourself or by others, which can simplify things quite a bit.\n",
    "\n",
    "Docker has become very popular in programming and `devops` communities due to its flexibility and its well-defined specification of how code can be run in its containers. It is the underpinning of many services built in the past few years, such as [Amazon ECS].\n",
    "\n",
    "Amazon SageMaker uses Docker to allow users to train and deploy arbitrary algorithms.\n",
    "\n",
    "In Amazon SageMaker, Docker containers are invoked in a one way for training and another, slightly different, way for hosting. The following sections outline how to build containers for the SageMaker environment.\n",
    "\n",
    "Some helpful links:\n",
    "\n",
    "* [Docker home page](http://www.docker.com)\n",
    "* [Getting started with Docker](https://docs.docker.com/get-started/)\n",
    "* [`Dockerfile` reference](https://docs.docker.com/engine/reference/builder/)\n",
    "* [`docker run` reference](https://docs.docker.com/engine/reference/run/)\n",
    "\n",
    "[Amazon ECS]: https://aws.amazon.com/ecs/\n",
    "\n",
    "### How Amazon SageMaker runs your Docker container\n",
    "\n",
    "Because you can run the same image in training or hosting, Amazon SageMaker runs your container with the argument `train` or `serve`. How your container processes this argument depends on the container.\n",
    "\n",
    "* In this example, we don't define a `ENTRYPOINT` in the `Dockerfile`, so Docker runs the command [`train` at training time](https://docs.aws.amazon.com/sagemaker/latest/dg/your-algorithms-training-algo.html) and [`serve` at serving time](https://docs.aws.amazon.com/sagemaker/latest/dg/your-algorithms-inference-code.html). In this example, we define these as executable Python scripts, but they could be any program that we want to start in that environment.\n",
    "* If you specify a program as a `ENTRYPOINT` in the `Dockerfile`, that program will be run at startup and its first argument will be `train` or `serve`. The program can then look at that argument and decide what to do.\n",
    "* If you are building separate containers for training and hosting (or building only for one or the other), you can define a program as a `ENTRYPOINT` in the `Dockerfile` and ignore (or verify) the first argument passed in.\n",
    "\n",
    "#### Running your container during training\n",
    "\n",
    "When Amazon SageMaker runs training, your `train` script is run, as in a regular Python program. A number of files are laid out for your use, under the `/opt/ml` directory:\n",
    "\n",
    "```\n",
    "    /opt/ml\n",
    "    |-- input\n",
    "    |   |-- config\n",
    "    |   |   |-- hyperparameters.json\n",
    "    |   |    -- resourceConfig.json\n",
    "    |    -- data\n",
    "    |        -- <channel_name>\n",
    "    |            -- <input data>\n",
    "    |-- model\n",
    "    |   -- <model files>\n",
    "     -- output\n",
    "        -- failure\n",
    "```\n",
    "\n",
    "##### The input\n",
    "\n",
    "* `/opt/ml/input/config` contains information to control how your program runs. `hyperparameters.json` is a JSON-formatted dictionary of hyperparameter names to values. These values are always strings, so you may need to convert them. `resourceConfig.json` is a JSON-formatted file that describes the network layout used for distributed training.\n",
    "* `/opt/ml/input/data/<channel_name>/` (for File mode) contains the input data for that channel. The channels are created based on the call to `CreateTrainingJob`, but it's generally important that channels match algorithm expectations. The files for each channel are copied from S3 to this directory, preserving the tree structure indicated by the S3 key structure.\n",
    "* `/opt/ml/input/data/<channel_name>_<epoch_number>` (for Pipe mode) is the pipe for a given epoch. Epochs start at zero and go up by one each time you read them. There is no limit to the number of epochs that you can run, but you must close each pipe before reading the next epoch.\n",
    "\n",
    "##### The output\n",
    "\n",
    "* `/opt/ml/model/` is the directory where you write the model that your algorithm generates. Your model can be in any format that you want. It can be a single file or a whole directory tree. SageMaker packages any files in this directory into a compressed tar archive file. This file is made available at the S3 location returned to the `DescribeTrainingJob` result.\n",
    "* `/opt/ml/output` is a directory where the algorithm can write a file `failure` that describes why the job failed. The contents of this file are returned to the `FailureReason` field of the `DescribeTrainingJob` result. For jobs that succeed, there is no reason to write this file as it is ignored.\n",
    "\n",
    "#### Running your container during hosting\n",
    "\n",
    "Hosting has a very different model than training because hosting is responding to inference requests that come in via HTTP. In this example, we use [TensorFlow Serving](https://www.tensorflow.org/serving/), however the hosting solution can be customized. One example is the [Python serving stack within the `scikit learn` example](https://github.com/awslabs/amazon-sagemaker-examples/blob/master/advanced_functionality/scikit_bring_your_own/scikit_bring_your_own.ipynb).\n",
    "\n",
    "Amazon SageMaker uses two URLs in the container:\n",
    "\n",
    "* `/ping` receives `GET` requests from the infrastructure. Your program returns 200 if the container is up and accepting requests.\n",
    "* `/invocations` is the endpoint that receives client inference `POST` requests. The format of the request and the response is up to the algorithm. If the client supplied `ContentType` and `Accept` headers, these are passed in as well. \n",
    "\n",
    "The container has the model files in the same place that they were written to during training:\n",
    "\n",
    "    /opt/ml\n",
    "    `-- model\n",
    "        `-- <model files>\n",
    "\n"
   ]
  },
  {
   "cell_type": "markdown",
   "metadata": {},
   "source": [
    "### The parts of the sample container\n",
    "\n",
    "The `container` directory has all the components you need to package the sample algorithm for `Amazon SageMager`:\n",
    "```\n",
    "    .\n",
    "    |-- Dockerfile\n",
    "    |-- build_and_push.sh\n",
    "    `-- cifar10\n",
    "        |-- cifar10.py\n",
    "        |-- resnet_model.py\n",
    "        |-- nginx.conf\n",
    "        |-- serve\n",
    "        `-- train\n",
    "```\n",
    "\n",
    "Let's discuss each of these in turn:\n",
    "\n",
    "* __`Dockerfile`__ describes how to build your Docker container image. More details are provided below.\n",
    "* __`build_and_push.sh`__ is a script that uses the `Dockerfile` to build your container images and then pushes it to ECR. We invoke the commands directly later in this notebook, but you can just copy and run the script for your own algorithms.\n",
    "* __`cifar10`__ is the directory which contains the files that are installed in the container.\n",
    "\n",
    "In this simple application, we install only five files in the container. You may only need that many, but if you have many supporting routines, you may wish to install more. These five files show the standard structure of our Python containers, although you are free to choose a different tool set and therefore could have a different layout. If you're writing in a different programming language, you will have a different layout depending on the frameworks and tools you choose.\n",
    "\n",
    "The files that we put in the container are:\n",
    "\n",
    "* __`cifar10.py`__ is the program that implements our training algorithm.\n",
    "* __`resnet_model.py`__ is the program that contains our `Resnet` model.\n",
    "* __`nginx.conf`__ is the configuration file for the nginx front-end. Generally, you should be able to take this file as-is.\n",
    "* __`serve`__ is the program started when the container is started for hosting. It simply launches nginx and loads your exported model with TensorFlow Serving.\n",
    "* __`train`__ is the program that is invoked when the container is run for training. Our implementation of this script invokes `cifar10.py` with our `hyperparameter` values retrieved from /opt/ml/input/config/hyperparameters.json. The goal for doing this is to avoid having to modify our training algorithm program.\n",
    "\n",
    "In summary, the two files you probably want to change for your application are `train` and `serve`."
   ]
  },
  {
   "cell_type": "markdown",
   "metadata": {},
   "source": [
    "### The `Dockerfile`\n",
    "\n",
    "The `Dockerfile` describes the image that we want to build. You can think of it as describing the complete operating system installation of the system that you want to run. A Docker container running is quite a bit lighter than a full operating system, however, because it takes advantage of Linux on the host machine for the basic operations.\n",
    "\n",
    "For the Python science stack, we start from an official TensorFlow docker image and run the normal tools to install TensorFlow Serving. Then we add the code that implements our specific algorithm to the container and set up the right environment for it to run under.\n",
    "\n",
    "Let's look at the `Dockerfile` for this example."
   ]
  },
  {
   "cell_type": "code",
   "execution_count": 1,
   "metadata": {},
   "outputs": [
    {
     "name": "stdout",
     "output_type": "stream",
     "text": [
      "# Copyright 2017-2018 Amazon.com, Inc. or its affiliates. All Rights Reserved.\n",
      "#\n",
      "# Licensed under the Apache License, Version 2.0 (the \"License\"). You\n",
      "# may not use this file except in compliance with the License. A copy of\n",
      "# the License is located at\n",
      "#\n",
      "#     http://aws.amazon.com/apache2.0/\n",
      "#\n",
      "# or in the \"license\" file accompanying this file. This file is\n",
      "# distributed on an \"AS IS\" BASIS, WITHOUT WARRANTIES OR CONDITIONS OF\n",
      "# ANY KIND, either express or implied. See the License for the specific\n",
      "# language governing permissions and limitations under the License.\n",
      "\n",
      "# For more information on creating a Dockerfile\n",
      "# https://docs.docker.com/compose/gettingstarted/#step-2-create-a-dockerfile\n",
      "FROM tensorflow/tensorflow:1.8.0-py3\n",
      "\n",
      "RUN apt-get update && apt-get install -y --no-install-recommends nginx curl\n",
      "\n",
      "# Download TensorFlow Serving\n",
      "# https://www.tensorflow.org/serving/setup#installing_the_modelserver\n",
      "RUN echo \"deb [arch=amd64] http://storage.googleapis.com/tensorflow-serving-apt stable tensorflow-model-server tensorflow-model-server-universal\" | tee /etc/apt/sources.list.d/tensorflow-serving.list\n",
      "RUN curl https://storage.googleapis.com/tensorflow-serving-apt/tensorflow-serving.release.pub.gpg | apt-key add -\n",
      "RUN apt-get update && apt-get install tensorflow-model-server\n",
      "\n",
      "ENV PATH=\"/opt/ml/code:${PATH}\"\n",
      "\n",
      "# /opt/ml and all subdirectories are utilized by SageMaker, we use the /code subdirectory to store our user code.\n",
      "COPY /cifar10 /opt/ml/code\n",
      "WORKDIR /opt/ml/code"
     ]
    }
   ],
   "source": [
    "!cat container/Dockerfile"
   ]
  },
  {
   "cell_type": "markdown",
   "metadata": {},
   "source": [
    "### Building and registering the container\n",
    "\n",
    "The following shell code shows how to build the container image using `docker build` and push the container image to ECR using `docker push`. This code is also available as the shell script `container/build-and-push.sh`, which you can run as `build-and-push.sh sagemaker-tf-cifar10-example` to build the image `sagemaker-tf-cifar10-example`. \n",
    "\n",
    "This code looks for an ECR repository in the account you're using and the current default region (if you're using a SageMaker notebook instance, this is the region where the notebook instance was created). If the repository doesn't exist, the script will create it."
   ]
  },
  {
   "cell_type": "markdown",
   "metadata": {},
   "source": [
    "**We are using a special profile to have the correct account.**"
   ]
  },
  {
   "cell_type": "code",
   "execution_count": null,
   "metadata": {},
   "outputs": [],
   "source": []
  },
  {
   "cell_type": "code",
   "execution_count": 2,
   "metadata": {},
   "outputs": [
    {
     "name": "stdout",
     "output_type": "stream",
     "text": [
      "898227857609\n",
      "eu-central-1\n",
      "Login Succeeded\n",
      "The push refers to repository [898227857609.dkr.ecr.eu-central-1.amazonaws.com/sagemaker-tf-cifar10-example]\n",
      "5f70bf18a086: Preparing\n",
      "ad79da44d765: Preparing\n",
      "28b83bb8c8a7: Preparing\n",
      "01a5be7e816e: Preparing\n",
      "417c46e07df8: Preparing\n",
      "bcf3c2472770: Preparing\n",
      "e0c4197104f9: Preparing\n",
      "1fb2bc13bdda: Preparing\n",
      "9136ffbbf4aa: Preparing\n",
      "b3a9262c451e: Preparing\n",
      "ce70cf3f2428: Preparing\n",
      "2faed3426aa2: Preparing\n",
      "fee4cef4c353: Preparing\n",
      "dc657e1d2f27: Preparing\n",
      "588d3e4e8828: Preparing\n",
      "bf3d982208f5: Preparing\n",
      "cd7b4cc1c2dd: Preparing\n",
      "3a0404adc8bd: Preparing\n",
      "82718dbf791d: Preparing\n",
      "c8aa3ff3c3d3: Preparing\n",
      "bcf3c2472770: Waiting\n",
      "e0c4197104f9: Waiting\n",
      "1fb2bc13bdda: Waiting\n",
      "9136ffbbf4aa: Waiting\n",
      "b3a9262c451e: Waiting\n",
      "cd7b4cc1c2dd: Waiting\n",
      "3a0404adc8bd: Waiting\n",
      "82718dbf791d: Waiting\n",
      "ce70cf3f2428: Waiting\n",
      "c8aa3ff3c3d3: Waiting\n",
      "2faed3426aa2: Waiting\n",
      "fee4cef4c353: Waiting\n",
      "dc657e1d2f27: Waiting\n",
      "588d3e4e8828: Waiting\n",
      "bf3d982208f5: Waiting\n",
      "01a5be7e816e: Layer already exists\n",
      "5f70bf18a086: Layer already exists\n",
      "28b83bb8c8a7: Layer already exists\n",
      "417c46e07df8: Layer already exists\n",
      "ad79da44d765: Layer already exists\n",
      "1fb2bc13bdda: Layer already exists\n",
      "bcf3c2472770: Layer already exists\n",
      "9136ffbbf4aa: Layer already exists\n",
      "b3a9262c451e: Layer already exists\n",
      "e0c4197104f9: Layer already exists\n",
      "dc657e1d2f27: Layer already exists\n",
      "fee4cef4c353: Layer already exists\n",
      "588d3e4e8828: Layer already exists\n",
      "ce70cf3f2428: Layer already exists\n",
      "2faed3426aa2: Layer already exists\n",
      "bf3d982208f5: Layer already exists\n",
      "cd7b4cc1c2dd: Layer already exists\n",
      "3a0404adc8bd: Layer already exists\n",
      "c8aa3ff3c3d3: Layer already exists\n",
      "82718dbf791d: Layer already exists\n",
      "1.0.0: digest: sha256:00e0dd15a2fc9eabf61ed5090ca73a0c5275a95ba2849a94476d53b1a06e6259 size: 4503\n"
     ]
    },
    {
     "name": "stderr",
     "output_type": "stream",
     "text": [
      "WARNING! Using --password via the CLI is insecure. Use --password-stdin.\n",
      "#1 [internal] load build definition from Dockerfile\n",
      "#1 sha256:9949bbcfd456b0d2d39c3320f52e55aedb2cbea2583a1b52bf1573390d9e890a\n",
      "#1 transferring dockerfile: 37B 0.0s done\n",
      "#1 DONE 0.0s\n",
      "\n",
      "#2 [internal] load .dockerignore\n",
      "#2 sha256:1478376637fddee7aa3d007846cac30988da54122be5f1b68399a68a782c0883\n",
      "#2 transferring context: 2B done\n",
      "#2 DONE 0.0s\n",
      "\n",
      "#3 [internal] load metadata for docker.io/tensorflow/tensorflow:1.8.0-py3\n",
      "#3 sha256:7a47108c2f5dbe63a6c92a1ac509fc3039783afbb60c420b69e2470575bc016b\n",
      "#3 ...\n",
      "\n",
      "#4 [auth] tensorflow/tensorflow:pull token for registry-1.docker.io\n",
      "#4 sha256:499f5c09c9f3519fb7563e2fdfc9c3e827eb9705298ed708f166ff0b613f401c\n",
      "#4 DONE 0.0s\n",
      "\n",
      "#3 [internal] load metadata for docker.io/tensorflow/tensorflow:1.8.0-py3\n",
      "#3 sha256:7a47108c2f5dbe63a6c92a1ac509fc3039783afbb60c420b69e2470575bc016b\n",
      "#3 DONE 1.4s\n",
      "\n",
      "#5 [1/7] FROM docker.io/tensorflow/tensorflow:1.8.0-py3@sha256:24b533d6db08369375f85b7d8da0e7d8c35c105337a7f6fa71947195b900eec9\n",
      "#5 sha256:6b728774b8f6dea16d07c65af37f435ba4978474b4ac1cbcfa4d61914a11d376\n",
      "#5 DONE 0.0s\n",
      "\n",
      "#10 [internal] load build context\n",
      "#10 sha256:648fc711bc1ca3474c0e40521083b0c3ac79a2ccce8471c3a13629bc45b1a5d3\n",
      "#10 transferring context: 250B done\n",
      "#10 DONE 0.0s\n",
      "\n",
      "#6 [2/7] RUN apt-get update && apt-get install -y --no-install-recommends nginx curl\n",
      "#6 sha256:8092b588478010731ed39ad0e3e4c886d170e1e6521be3cfdfe12378fb389f0b\n",
      "#6 CACHED\n",
      "\n",
      "#7 [3/7] RUN echo \"deb [arch=amd64] http://storage.googleapis.com/tensorflow-serving-apt stable tensorflow-model-server tensorflow-model-server-universal\" | tee /etc/apt/sources.list.d/tensorflow-serving.list\n",
      "#7 sha256:b1eb54b3b7941aceb2e581ab95844925d1015d06ecbc7aacbfd354de3ca3b7a3\n",
      "#7 CACHED\n",
      "\n",
      "#8 [4/7] RUN curl https://storage.googleapis.com/tensorflow-serving-apt/tensorflow-serving.release.pub.gpg | apt-key add -\n",
      "#8 sha256:9a21cd0e6f35ac90e8444525c17d90712fa4882803d0523756af78ce2eb3b585\n",
      "#8 CACHED\n",
      "\n",
      "#9 [5/7] RUN apt-get update && apt-get install tensorflow-model-server\n",
      "#9 sha256:675eb9be212398c09d6caad99f93eca9fcf91597a129ab11e5f2f4c58ee9f5a0\n",
      "#9 CACHED\n",
      "\n",
      "#11 [6/7] COPY /cifar10 /opt/ml/code\n",
      "#11 sha256:af850e3d884e522fca84944bfb74d82fa4955f11dab91b6d6dbeb503224fa62d\n",
      "#11 CACHED\n",
      "\n",
      "#12 [7/7] WORKDIR /opt/ml/code\n",
      "#12 sha256:1b038f91fda4cb32b1d6468ec050ef78ce17f742a59973c4187a2e6438340900\n",
      "#12 CACHED\n",
      "\n",
      "#13 exporting to image\n",
      "#13 sha256:e8c613e07b0b7ff33893b694f7759a10d42e180f2b4dc349fb57dc6b71dcab00\n",
      "#13 exporting layers done\n",
      "#13 writing image sha256:123893e8da27db8ba210c65d82b47a8a1b77ee0f128fa4e0d1b8d155d09afe5b done\n",
      "#13 naming to docker.io/library/sagemaker-tf-cifar10-example done\n",
      "#13 DONE 0.0s\n",
      "\n",
      "Use 'docker scan' to run Snyk tests against images to find vulnerabilities and learn how to fix them\n"
     ]
    }
   ],
   "source": [
    "%%sh\n",
    "\n",
    "# The name of our algorithm\n",
    "algorithm_name=sagemaker-tf-cifar10-example\n",
    "\n",
    "cd container\n",
    "\n",
    "chmod +x cifar10/train\n",
    "chmod +x cifar10/serve\n",
    "\n",
    "account=$(aws sts get-caller-identity --query Account --output text --profile local-sagemaker)\n",
    "\n",
    "echo $account\n",
    "\n",
    "# Get the region defined in the current configuration (default to us-west-2 if none defined)\n",
    "region=$(aws configure get region --profile local-sagemaker)\n",
    "region=${region:-us-west-2}\n",
    "\n",
    "echo $region\n",
    "\n",
    "fullname=\"${account}.dkr.ecr.${region}.amazonaws.com/${algorithm_name}:1.0.0\"\n",
    "\n",
    "# If the repository doesn't exist in ECR, create it.\n",
    "\n",
    "aws ecr describe-repositories --repository-names \"${algorithm_name}\" --profile local-sagemaker > /dev/null 2>&1\n",
    "\n",
    "if [ $? -ne 0 ]\n",
    "then\n",
    "    aws ecr create-repository --repository-name \"${algorithm_name}\" --profile local-sagemaker > /dev/null\n",
    "fi\n",
    "\n",
    "# Get the login command from ECR and execute it directly\n",
    "$(aws ecr get-login --region ${region} --no-include-email --profile local-sagemaker)\n",
    "\n",
    "# Build the docker image locally with the image name and then push it to ECR\n",
    "# with the full name.\n",
    "\n",
    "docker build  -t ${algorithm_name} .\n",
    "docker tag ${algorithm_name} ${fullname}\n",
    "\n",
    "docker push ${fullname}"
   ]
  },
  {
   "cell_type": "code",
   "execution_count": 3,
   "metadata": {},
   "outputs": [
    {
     "name": "stdout",
     "output_type": "stream",
     "text": [
      "REPOSITORY                                                                     TAG            IMAGE ID       CREATED             SIZE\n",
      "sagemaker-tf-cifar10-example                                                   latest         123893e8da27   About an hour ago   1.78GB\n",
      "392543094803.dkr.ecr.eu-central-1.amazonaws.com/sagemaker-tf-cifar10-example   latest         123893e8da27   About an hour ago   1.78GB\n",
      "898227857609.dkr.ecr.eu-central-1.amazonaws.com/sagemaker-tf-cifar10-example   1.0.0          123893e8da27   About an hour ago   1.78GB\n",
      "898227857609.dkr.ecr.eu-central-1.amazonaws.com/sagemaker-tf-cifar10-example   latest         123893e8da27   About an hour ago   1.78GB\n",
      "dana                                                                           latest         1247d3a576fd   3 days ago          1.75GB\n",
      "<none>                                                                         <none>         6f458bcdc3f1   6 days ago          1.75GB\n",
      "<none>                                                                         <none>         890b466fc062   6 days ago          1.74GB\n",
      "<none>                                                                         <none>         a4a3be286fc8   7 days ago          1.74GB\n",
      "<none>                                                                         <none>         0919c13460ff   8 days ago          1.74GB\n",
      "<none>                                                                         <none>         f069c5329064   8 days ago          1.74GB\n",
      "<none>                                                                         <none>         5da68d4645a7   8 days ago          1.74GB\n",
      "<none>                                                                         <none>         2b2f0b7001d4   8 days ago          1.74GB\n",
      "<none>                                                                         <none>         e314988796c1   8 days ago          1.74GB\n",
      "<none>                                                                         <none>         32377e414737   8 days ago          1.74GB\n",
      "<none>                                                                         <none>         6d272f28669a   8 days ago          1.74GB\n",
      "<none>                                                                         <none>         858234b2bcc7   8 days ago          1.74GB\n",
      "<none>                                                                         <none>         d7389f6bf3b2   8 days ago          1.74GB\n",
      "<none>                                                                         <none>         11ac2825b2ce   12 days ago         1.74GB\n",
      "<none>                                                                         <none>         f5d4eff96030   12 days ago         1.74GB\n",
      "<none>                                                                         <none>         0f8e6d21efe9   12 days ago         1.74GB\n",
      "<none>                                                                         <none>         64fc58639fb3   12 days ago         1.74GB\n",
      "<none>                                                                         <none>         8bc3e758ee89   12 days ago         1.74GB\n",
      "<none>                                                                         <none>         609f37cd3b2b   12 days ago         1.74GB\n",
      "<none>                                                                         <none>         7697645ee7e8   12 days ago         1.74GB\n",
      "<none>                                                                         <none>         94f8a7587e68   12 days ago         1.74GB\n",
      "<none>                                                                         <none>         35ce8cdb227b   12 days ago         1.74GB\n",
      "<none>                                                                         <none>         84a5222b1859   12 days ago         1.74GB\n",
      "<none>                                                                         <none>         9472963332a7   12 days ago         1.74GB\n",
      "<none>                                                                         <none>         fcf1b16b82f2   12 days ago         1.74GB\n",
      "<none>                                                                         <none>         fc4ba2acfc77   12 days ago         1.74GB\n",
      "<none>                                                                         <none>         2c86f12283d3   12 days ago         1.74GB\n",
      "<none>                                                                         <none>         25f7f01ca0d5   12 days ago         1.74GB\n",
      "<none>                                                                         <none>         5fe8e764fd78   12 days ago         1.74GB\n",
      "<none>                                                                         <none>         32d771bac073   12 days ago         1.74GB\n",
      "<none>                                                                         <none>         75cd48abb72c   12 days ago         1.74GB\n",
      "<none>                                                                         <none>         e4991ac61878   12 days ago         1.74GB\n",
      "<none>                                                                         <none>         d7cb39cc06d2   12 days ago         1.74GB\n",
      "<none>                                                                         <none>         3d42debf9a4d   12 days ago         1.74GB\n",
      "<none>                                                                         <none>         3da847d474d4   12 days ago         1.74GB\n",
      "<none>                                                                         <none>         541bba5efddc   13 days ago         1.74GB\n",
      "<none>                                                                         <none>         2d72311f625b   13 days ago         1.74GB\n",
      "<none>                                                                         <none>         c31153ba3f5e   13 days ago         1.74GB\n",
      "<none>                                                                         <none>         ffcfeadbfc82   13 days ago         1.74GB\n",
      "<none>                                                                         <none>         cf0b7fca1067   13 days ago         1.74GB\n",
      "<none>                                                                         <none>         8097828a470c   13 days ago         1.74GB\n",
      "<none>                                                                         <none>         cb07c4f29409   13 days ago         1.74GB\n",
      "<none>                                                                         <none>         90ef2d6638d4   13 days ago         1.74GB\n",
      "<none>                                                                         <none>         7e1c54d34028   13 days ago         1.74GB\n",
      "<none>                                                                         <none>         4774bbeff328   13 days ago         1.74GB\n",
      "<none>                                                                         <none>         bc2f5a1cb842   13 days ago         1.74GB\n",
      "<none>                                                                         <none>         2fffa908067b   13 days ago         1.74GB\n",
      "<none>                                                                         <none>         6f0bb82e0137   2 weeks ago         1.74GB\n",
      "<none>                                                                         <none>         9128bfbb4b5c   2 weeks ago         1.74GB\n",
      "<none>                                                                         <none>         ee288d0d05f9   2 weeks ago         1.74GB\n",
      "<none>                                                                         <none>         8bb4189513a3   2 weeks ago         1.74GB\n",
      "<none>                                                                         <none>         d7cc61583031   2 weeks ago         1.74GB\n",
      "<none>                                                                         <none>         5725fcfbf052   2 weeks ago         1.74GB\n",
      "<none>                                                                         <none>         f1f22c305816   2 weeks ago         1.74GB\n",
      "<none>                                                                         <none>         2afabdfec50a   2 weeks ago         1.74GB\n",
      "<none>                                                                         <none>         c42c1005cf44   2 weeks ago         1.74GB\n",
      "<none>                                                                         <none>         05beaf9f7851   2 weeks ago         1.74GB\n",
      "<none>                                                                         <none>         e38e3a383f4e   2 weeks ago         1.74GB\n",
      "<none>                                                                         <none>         fae702832975   2 weeks ago         1.74GB\n",
      "763104351884.dkr.ecr.eu-central-1.amazonaws.com/tensorflow-training            1.14-cpu-py3   e6a210ff54e4   2 years ago         1.83GB\n"
     ]
    }
   ],
   "source": [
    "!docker images"
   ]
  },
  {
   "cell_type": "markdown",
   "metadata": {},
   "source": [
    "## Testing your algorithm on your local machine\n",
    "\n",
    "When you're packaging you first algorithm to use with Amazon SageMaker, you probably want to test it yourself to make sure it's working correctly. We use the [SageMaker Python SDK](https://github.com/aws/sagemaker-python-sdk) to test both locally and on SageMaker. For more examples with the SageMaker Python SDK, see [Amazon SageMaker Examples](https://github.com/awslabs/amazon-sagemaker-examples/tree/master/sagemaker-python-sdk). In order to test our algorithm, we need our dataset."
   ]
  },
  {
   "cell_type": "markdown",
   "metadata": {},
   "source": [
    "## Download the CIFAR-10 dataset\n",
    "Our training algorithm is expecting our training data to be in the file format of [`TFRecords`](https://www.tensorflow.org/guide/datasets), which is a simple record-oriented binary format that many TensorFlow applications use for training data.\n",
    "Below is a Python script adapted from the [official TensorFlow CIFAR-10 example](https://github.com/tensorflow/models/tree/master/tutorials/image/cifar10_estimator), which downloads the CIFAR-10 dataset and converts them into `TFRecords`."
   ]
  },
  {
   "cell_type": "code",
   "execution_count": 2,
   "metadata": {},
   "outputs": [],
   "source": [
    "import tensorflow as tf"
   ]
  },
  {
   "cell_type": "code",
   "execution_count": 5,
   "metadata": {},
   "outputs": [],
   "source": [
    "import tensorflow as tf\n",
    "from IPython.display import display\n",
    "from ipywidgets import FloatProgress\n",
    "from six.moves import cPickle as pickle\n",
    "from six.moves import xrange  # pylint: disable=redefined-builtin\n",
    "from six.moves import urllib"
   ]
  },
  {
   "cell_type": "code",
   "execution_count": 15,
   "metadata": {},
   "outputs": [
    {
     "name": "stdout",
     "output_type": "stream",
     "text": [
      "Download from https://www.cs.toronto.edu/~kriz/cifar-10-python.tar.gz and extract.\n",
      "Generating /tmp/cifar-10-data/train.tfrecords\n",
      "Generating /tmp/cifar-10-data/validation.tfrecords\n",
      "Generating /tmp/cifar-10-data/eval.tfrecords\n",
      "Removing original files.\n",
      "Done!\n"
     ]
    }
   ],
   "source": [
    "! python utils/generate_cifar10_tfrecords.py --data-dir=/tmp/cifar-10-data"
   ]
  },
  {
   "cell_type": "code",
   "execution_count": 17,
   "metadata": {},
   "outputs": [
    {
     "name": "stdout",
     "output_type": "stream",
     "text": [
      "eval.tfrecords       train.tfrecords      validation.tfrecords\n"
     ]
    }
   ],
   "source": [
    "# There should be three tfrecords. (eval, train, validation)\n",
    "! ls /tmp/cifar-10-data"
   ]
  },
  {
   "cell_type": "markdown",
   "metadata": {},
   "source": [
    "## SageMaker Python SDK Local Training\n",
    "To represent our training, we use the Estimator class, which needs to be configured in five steps. \n",
    "1. IAM role - our AWS execution role\n",
    "2. train_instance_count - number of instances to use for training.\n",
    "3. train_instance_type - type of instance to use for training. For training locally, we specify `local`.\n",
    "4. image_name - our custom TensorFlow Docker image we created.\n",
    "5. hyperparameters - hyperparameters we want to pass.\n",
    "\n",
    "Let's start with setting up our IAM role. We make use of a helper function within the Python SDK. This function throw an exception if run outside a SageMaker notebook instance, as it gets metadata from the notebook instance. If running outside, you must provide an IAM role with proper access stated above in [Permissions](#Permissions)."
   ]
  },
  {
   "cell_type": "code",
   "execution_count": null,
   "metadata": {},
   "outputs": [],
   "source": [
    "from sagemaker import get_execution_role\n",
    "\n",
    "role = get_execution_role()"
   ]
  },
  {
   "cell_type": "markdown",
   "metadata": {},
   "source": [
    "## Fit, Deploy, Predict\n",
    "\n",
    "Now that the rest of our estimator is configured, we can call `fit()` with the path to our local CIFAR10 dataset prefixed with `file://`. This invokes our `TensorFlow` container with 'train' and passes in our hyperparameters and other metadata as json files in /opt/ml/input/config within the container.\n",
    "\n",
    "After our training has succeeded, our training algorithm outputs our trained model within the /opt/ml/model directory, which is used to handle predictions.\n",
    "\n",
    "We can then call `deploy()` with an instance_count and instance_type, which is 1 and `local`. This invokes our `TensorFlow` container with 'serve', which setups our container to handle prediction requests through TensorFlow Serving. What is returned is a predictor, which is used to make inferences against our trained model.\n",
    "\n",
    "After our prediction, we can delete our endpoint.\n",
    "\n",
    "We recommend testing and training your training algorithm locally first, as it provides quicker iterations and better `debuggability`."
   ]
  },
  {
   "cell_type": "code",
   "execution_count": null,
   "metadata": {},
   "outputs": [],
   "source": [
    "# Lets set up our SageMaker notebook instance for local mode.\n",
    "!/bin/bash ./utils/setup.sh"
   ]
  },
  {
   "cell_type": "code",
   "execution_count": null,
   "metadata": {},
   "outputs": [],
   "source": [
    "from sagemaker.estimator import Estimator\n",
    "\n",
    "hyperparameters = {\"train-steps\": 100}\n",
    "\n",
    "instance_type = \"local\"\n",
    "\n",
    "estimator = Estimator(\n",
    "    role=role,\n",
    "    instance_count=1,\n",
    "    instance_type=instance_type,\n",
    "    image_uri=\"sagemaker-tf-cifar10-example:latest\",\n",
    "    hyperparameters=hyperparameters,\n",
    ")\n",
    "\n",
    "estimator.fit(\"file:///tmp/cifar-10-data\")\n",
    "\n",
    "predictor = estimator.deploy(1, instance_type)"
   ]
  },
  {
   "cell_type": "markdown",
   "metadata": {},
   "source": [
    "## Making predictions using Python SDK\n",
    "\n",
    "To make predictions, we use an image that is converted using OpenCV into a json format to send as an inference request. We need to install OpenCV to deserialize the image that is used to make predictions.\n",
    "\n",
    "The JSON response will be the probabilities of the image belonging to one of the 10 classes along with the most likely class the picture belongs to. The classes can be referenced from the [CIFAR-10 website](https://www.cs.toronto.edu/~kriz/cifar.html). Since we didn't train the model for that long, we aren't expecting very accurate results."
   ]
  },
  {
   "cell_type": "code",
   "execution_count": null,
   "metadata": {},
   "outputs": [],
   "source": [
    "! pip install opencv-python"
   ]
  },
  {
   "cell_type": "code",
   "execution_count": null,
   "metadata": {},
   "outputs": [],
   "source": [
    "import cv2\n",
    "import numpy\n",
    "\n",
    "from sagemaker.serializers import JSONSerializer\n",
    "from sagemaker.deserializers import JSONDeserializer\n",
    "\n",
    "image = cv2.imread(\"data/cat.png\", 1)\n",
    "\n",
    "# resize, as our model is expecting images in 32x32.\n",
    "image = cv2.resize(image, (32, 32))\n",
    "\n",
    "data = {\"instances\": numpy.asarray(image).astype(float).tolist()}\n",
    "\n",
    "predictor.serializer = JSONSerializer()\n",
    "predictor.deserializer = JSONDeserializer()\n",
    "\n",
    "# For more information on the predictor class.\n",
    "# https://github.com/aws/sagemaker-python-sdk/blob/master/src/sagemaker/predictor.py\n",
    "predictor.predict(data)"
   ]
  },
  {
   "cell_type": "code",
   "execution_count": null,
   "metadata": {},
   "outputs": [],
   "source": [
    "predictor.delete_endpoint()"
   ]
  },
  {
   "cell_type": "markdown",
   "metadata": {},
   "source": [
    "# Part 2: Training and Hosting your Algorithm in Amazon SageMaker\n",
    "Once you have your container packaged, you can use it to train and serve models. Let's do that with the algorithm we made above.\n",
    "\n",
    "## Set up the environment\n",
    "Here we specify the bucket to use and the role that is used for working with SageMaker."
   ]
  },
  {
   "cell_type": "code",
   "execution_count": null,
   "metadata": {},
   "outputs": [],
   "source": [
    "# S3 prefix\n",
    "prefix = \"DEMO-tensorflow-cifar10\""
   ]
  },
  {
   "cell_type": "markdown",
   "metadata": {},
   "source": [
    "## Create the session\n",
    "\n",
    "The session remembers our connection parameters to SageMaker. We use it to perform all of our SageMaker operations."
   ]
  },
  {
   "cell_type": "code",
   "execution_count": null,
   "metadata": {},
   "outputs": [],
   "source": [
    "import sagemaker as sage\n",
    "\n",
    "sess = sage.Session()"
   ]
  },
  {
   "cell_type": "markdown",
   "metadata": {},
   "source": [
    "## Upload the data for training\n",
    "\n",
    "We will use the tools provided by the SageMaker Python SDK to upload the data to a default bucket."
   ]
  },
  {
   "cell_type": "code",
   "execution_count": null,
   "metadata": {},
   "outputs": [],
   "source": [
    "WORK_DIRECTORY = \"/tmp/cifar-10-data\"\n",
    "\n",
    "data_location = sess.upload_data(WORK_DIRECTORY, key_prefix=prefix)"
   ]
  },
  {
   "cell_type": "markdown",
   "metadata": {},
   "source": [
    "## Training on SageMaker\n",
    "Training a model on SageMaker with the Python SDK is done in a way that is similar to the way we trained it locally. This is done by changing our train_instance_type from `local` to one of our [supported EC2 instance types](https://aws.amazon.com/sagemaker/pricing/instance-types/).\n",
    "\n",
    "In addition, we must now specify the ECR image URL, which we just pushed above.\n",
    "\n",
    "Finally, our local training dataset has to be in Amazon S3 and the S3 URL to our dataset is passed into the `fit()` call.\n",
    "\n",
    "Let's first fetch our ECR image `url` that corresponds to the image we just built and pushed."
   ]
  },
  {
   "cell_type": "code",
   "execution_count": null,
   "metadata": {},
   "outputs": [],
   "source": [
    "import boto3\n",
    "\n",
    "client = boto3.client(\"sts\")\n",
    "account = client.get_caller_identity()[\"Account\"]\n",
    "\n",
    "my_session = boto3.session.Session()\n",
    "region = my_session.region_name\n",
    "\n",
    "algorithm_name = \"sagemaker-tf-cifar10-example\"\n",
    "\n",
    "ecr_image = \"{}.dkr.ecr.{}.amazonaws.com/{}:latest\".format(account, region, algorithm_name)\n",
    "\n",
    "print(ecr_image)"
   ]
  },
  {
   "cell_type": "code",
   "execution_count": null,
   "metadata": {},
   "outputs": [],
   "source": [
    "from sagemaker.estimator import Estimator\n",
    "\n",
    "hyperparameters = {\"train-steps\": 100}\n",
    "\n",
    "instance_type = \"ml.m4.xlarge\"\n",
    "\n",
    "estimator = Estimator(\n",
    "    role=role,\n",
    "    instance_count=1,\n",
    "    instance_type=instance_type,\n",
    "    image_uri=ecr_image,\n",
    "    hyperparameters=hyperparameters,\n",
    ")\n",
    "\n",
    "estimator.fit(data_location)\n",
    "\n",
    "predictor = estimator.deploy(1, instance_type)"
   ]
  },
  {
   "cell_type": "code",
   "execution_count": null,
   "metadata": {},
   "outputs": [],
   "source": [
    "image = cv2.imread(\"data/cat.png\", 1)\n",
    "\n",
    "# resize, as our model is expecting images in 32x32.\n",
    "image = cv2.resize(image, (32, 32))\n",
    "\n",
    "data = {\"instances\": numpy.asarray(image).astype(float).tolist()}\n",
    "\n",
    "predictor.serializer = JSONSerializer()\n",
    "predictor.deserializer = JSONDeserializer()\n",
    "\n",
    "predictor.predict(data)"
   ]
  },
  {
   "cell_type": "markdown",
   "metadata": {},
   "source": [
    "## Optional cleanup\n",
    "When you're done with the endpoint, you should clean it up.\n",
    "\n",
    "All the training jobs, models and endpoints we created can be viewed through the SageMaker console of your AWS account."
   ]
  },
  {
   "cell_type": "code",
   "execution_count": null,
   "metadata": {},
   "outputs": [],
   "source": [
    "predictor.delete_endpoint()"
   ]
  },
  {
   "cell_type": "markdown",
   "metadata": {},
   "source": [
    "# Reference\n",
    "- [How Amazon SageMaker interacts with your Docker container for training](https://docs.aws.amazon.com/sagemaker/latest/dg/your-algorithms-training-algo.html)\n",
    "- [How Amazon SageMaker interacts with your Docker container for inference](https://docs.aws.amazon.com/sagemaker/latest/dg/your-algorithms-inference-code.html)\n",
    "- [CIFAR-10 Dataset](https://www.cs.toronto.edu/~kriz/cifar.html)\n",
    "- [SageMaker Python SDK](https://github.com/aws/sagemaker-python-sdk)\n",
    "- [`Dockerfile`](https://docs.docker.com/engine/reference/builder/)\n",
    "- [scikit-bring-your-own](https://github.com/awslabs/amazon-sagemaker-examples/blob/master/advanced_functionality/scikit_bring_your_own/scikit_bring_your_own.ipynb)"
   ]
  },
  {
   "cell_type": "code",
   "execution_count": null,
   "metadata": {},
   "outputs": [],
   "source": []
  }
 ],
 "metadata": {
  "kernelspec": {
   "display_name": "sagemaker",
   "language": "python",
   "name": "sagemaker"
  },
  "language_info": {
   "codemirror_mode": {
    "name": "ipython",
    "version": 3
   },
   "file_extension": ".py",
   "mimetype": "text/x-python",
   "name": "python",
   "nbconvert_exporter": "python",
   "pygments_lexer": "ipython3",
   "version": "3.8.2"
  }
 },
 "nbformat": 4,
 "nbformat_minor": 4
}
